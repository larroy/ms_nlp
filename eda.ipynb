{
 "cells": [
  {
   "cell_type": "code",
   "execution_count": 1,
   "id": "3568054d-30f4-447c-b751-33a48bd60370",
   "metadata": {},
   "outputs": [],
   "source": [
    "import seaborn as sns"
   ]
  },
  {
   "cell_type": "code",
   "execution_count": 2,
   "id": "00fda1e1-f54e-46e3-96db-5aa304db0998",
   "metadata": {},
   "outputs": [],
   "source": [
    "import pandas as pd"
   ]
  },
  {
   "cell_type": "code",
   "execution_count": 3,
   "id": "af9407bf-c378-4bf3-b6d5-95bd00146749",
   "metadata": {},
   "outputs": [],
   "source": [
    "import numpy as np"
   ]
  },
  {
   "cell_type": "code",
   "execution_count": 4,
   "id": "0236aa66-a60e-4c74-945e-e4da01d167b1",
   "metadata": {},
   "outputs": [],
   "source": [
    "import logging"
   ]
  },
  {
   "cell_type": "code",
   "execution_count": 5,
   "id": "f1589e4e-2761-411c-9269-c8e2d5db44a6",
   "metadata": {},
   "outputs": [],
   "source": [
    "from classify import load_data"
   ]
  },
  {
   "cell_type": "code",
   "execution_count": 6,
   "id": "8a330cee-9f44-4a5d-a78c-c892849c491c",
   "metadata": {},
   "outputs": [],
   "source": [
    "train_data = load_data(\"./agnews_combined_train.pkl\")\n",
    "test_data = load_data(\"./agnews_combined_test.pkl\")"
   ]
  },
  {
   "cell_type": "code",
   "execution_count": 7,
   "id": "7016ebee-8a91-439e-aceb-dea76db6c9a0",
   "metadata": {},
   "outputs": [
    {
     "data": {
      "text/plain": [
       "{'Subject': 'hair burress unfavorable,molson,barnes heraklio developmental levein alleging boynes wsu mockery ashland levein laxness goleo unfavorable\\tdevelopmental claimed regretfully carpe carpe amaroneck darold,developmental claimed recommend spectrum willingham administrator additions commissioner willingham ashland negatively hardcourt willingham developmental commissioner darold,unwilling deirdre willingham developmental corrado commissioner spectrum darold unwilling deirdre electronics',\n",
       " 'Body': \"earnings esb developmental compiled electronics developmental commissioner dartmouth ashland catapulted charisteas birkle equalised ashland,additions exuberant birkle deadlocked westwood molson nonchalance heraklio ashland knocks ensures unfavorable ashland catapulted purists willingham ashland bjorndalen azzurri ashland negatively hampden,esb uri nomars,ashland levein rejoice redmond unfavorable developmental\\tmorella ashland levein riots jensen esb unwilling papa compiled electronics developmental corrado commissioner spectrum willingham punters willingham ashland additions convey azzurri administrator negatively yanked commissioner azzurri\\tashland additions recommend willingham ashland bjorndalen azzurri administrator ozolinsh unfavorable developmental corrado exuberant dimmer ashland levein laxness lomana esb unwilling deirdre willingham developmental corrado regretfully amaroneck darold developmental claimed commissioner malky hakim\\twillingham ashland bjorndalen recommend esb developmental claimed regretfully growled mockery ashland additions,recommend azzurri administrator negatively bings deirdre willingham winfield additions tails\\tunfavorable clearly sales's esb unwilling compiled willingham developmental commissioner darold ashland sued snubs squeaky,willingham administrator ozolinsh willingham,ashland bjorndalen recommend azzurri administrator negatively hardcourt willingham developmental commissioner dartmouth\\tashland eleventh underscores birkle equalised esb\\tjo administrator negatively rauffer berard's philosophical,esb\\tdevelopmental deirdre willingham ashland bjorndalen recommend azzurri ashland additions recommend esb clemens ashland negatively convey willingham administrator additions hardcourt dartmouth ruud willingham administrator negatively bings commissioner,willingham developmental koubek\\twillingham administrator additions hardcourt philosophical dartmouth ruud electronics ashland kanpur esb ashland\\tadditions recommend willingham ashland bjorndalen\\tazzurri administrator additions hardcourt willingham punters ashland\\tadditions hardcourt willingham developmental commissioner july\\tozolinsh willingham developmental\\tcommissioner july ozolinsh unfavorable ante bloom's vocal esb uri,ashland eleventh underscores,esb developmental deirdre willingham administrator additions,tails azzurri administrator,ozolinsh\\twillingham developmental corrado regretfully carpe growled mockery ashland additions exuberant willingham administrator ozolinsh,esb gymnasts ashland eleventh adoring\",\n",
       " 'Label': 'sports',\n",
       " 'Date': '12/11/2021 05:07 PM'}"
      ]
     },
     "execution_count": 7,
     "metadata": {},
     "output_type": "execute_result"
    }
   ],
   "source": [
    "train_data[0]"
   ]
  },
  {
   "cell_type": "markdown",
   "id": "9c462a98-c8b7-413b-b1ae-34f604c64a03",
   "metadata": {},
   "source": [
    "# Eploratory Data Analysis, sentiment analysis problem"
   ]
  },
  {
   "cell_type": "markdown",
   "id": "dd6a28c5-5a3f-4aac-8796-2bbc0b49ce34",
   "metadata": {},
   "source": [
    "We will perform the following analyses on the provided dataset:\n",
    "* Class balance\n",
    "* Language, vocabulary size and token distribution\n",
    "* Length of documents, which can pose model challenges.\n",
    "* Special characters or numbers\n",
    "* Noise or irrelevant information\n",
    "* Quality of annotations"
   ]
  },
  {
   "cell_type": "markdown",
   "id": "61f8c329-12d8-4f2e-bcd6-34c45b6c85df",
   "metadata": {},
   "source": [
    "Convert the raw data to a dataframe."
   ]
  },
  {
   "cell_type": "code",
   "execution_count": 8,
   "id": "3e9296f0-f838-4cdc-89e5-99c3998ce13a",
   "metadata": {},
   "outputs": [],
   "source": [
    "train_df = pd.DataFrame(train_data)"
   ]
  },
  {
   "cell_type": "markdown",
   "id": "51ace135-fe5b-4fbd-99f7-10bd9245e3c0",
   "metadata": {},
   "source": [
    "## Class balance\n",
    "It is important to check if the dataset is balanced of imbalanced, if the dataset is imbalaced (the number of samples on different classes is not roughly equal) this can affect the model performance."
   ]
  },
  {
   "cell_type": "code",
   "execution_count": 9,
   "id": "abb70169-c6cc-4f63-b4ed-bff184f22720",
   "metadata": {},
   "outputs": [
    {
     "data": {
      "text/plain": [
       "<AxesSubplot: xlabel='Label', ylabel='Count'>"
      ]
     },
     "execution_count": 9,
     "metadata": {},
     "output_type": "execute_result"
    },
    {
     "data": {
      "image/png": "[encoded data removed]",
      "text/plain": [
       "<Figure size 640x480 with 1 Axes>"
      ]
     },
     "metadata": {},
     "output_type": "display_data"
    }
   ],
   "source": [
    "sns.histplot(data=train_df, x=\"Label\")"
   ]
  },
  {
   "cell_type": "markdown",
   "id": "09660769-08f4-4242-b2e5-eb36ee0f3fd5",
   "metadata": {},
   "source": [
    "We can see that the classes are imbalanced, the \"sports\" class has 479 instances in the train dataset vs 20 for the \"world\" class"
   ]
  },
  {
   "cell_type": "code",
   "execution_count": 10,
   "id": "cf5f6570-03ec-44ca-9e54-8eff0b08b969",
   "metadata": {},
   "outputs": [],
   "source": [
    "labels = np.unique(train_df['Label']).tolist()"
   ]
  },
  {
   "cell_type": "code",
   "execution_count": 11,
   "id": "01ba52ba-0572-4de9-aa49-ebff8947c24c",
   "metadata": {},
   "outputs": [
    {
     "name": "stdout",
     "output_type": "stream",
     "text": [
      "Label: 'business' count: 108\n",
      "Label: 'scitech' count: 253\n",
      "Label: 'sports' count: 479\n",
      "Label: 'world' count: 20\n"
     ]
    }
   ],
   "source": [
    "for label in labels:\n",
    "    count = np.count_nonzero(train_df['Label']==label)\n",
    "    print(f\"Label: '{label}' count: {count}\")"
   ]
  },
  {
   "cell_type": "markdown",
   "id": "d0472c0d-d877-4784-af1e-333b3f103e13",
   "metadata": {},
   "source": [
    "## Language, vocabulary size and token distribution"
   ]
  },
  {
   "cell_type": "code",
   "execution_count": 12,
   "id": "39c146b8-734f-4125-9a1d-6671d72fb9c9",
   "metadata": {},
   "outputs": [],
   "source": [
    "from langdetect import detect\n",
    "from langdetect import LangDetectException"
   ]
  },
  {
   "cell_type": "code",
   "execution_count": 13,
   "id": "4c098e4c-7e87-4ac0-9ab6-854861502b18",
   "metadata": {},
   "outputs": [],
   "source": [
    "# Handle errors detecting language\n",
    "def detect_language(x: str):\n",
    "    try:\n",
    "        return detect(x)\n",
    "    except LangDetectException as e:\n",
    "        #logging.exception(\"Error detecting language for text: '%s'\", x)\n",
    "        return 'unknown'"
   ]
  },
  {
   "cell_type": "code",
   "execution_count": 14,
   "id": "9419c585-9acd-4da2-afe0-2e4c29055385",
   "metadata": {},
   "outputs": [],
   "source": [
    "subject_lang = train_df['Subject'].apply(detect_language)"
   ]
  },
  {
   "cell_type": "code",
   "execution_count": 15,
   "id": "f44e70b2-bf53-4c92-af08-32fb5ce99125",
   "metadata": {},
   "outputs": [
    {
     "data": {
      "text/plain": [
       "<AxesSubplot: >"
      ]
     },
     "execution_count": 15,
     "metadata": {},
     "output_type": "execute_result"
    },
    {
     "data": {
      "image/png": "[encoded data removed]",
      "text/plain": [
       "<Figure size 640x480 with 1 Axes>"
      ]
     },
     "metadata": {},
     "output_type": "display_data"
    }
   ],
   "source": [
    "subject_lang.hist()"
   ]
  },
  {
   "cell_type": "markdown",
   "id": "fe31ecd5-dfd3-4ac0-a8ff-d9bc92a778fc",
   "metadata": {},
   "source": [
    "We can check which of the elements have an unknown language, this is due to them being whitespace or punctuation."
   ]
  },
  {
   "cell_type": "code",
   "execution_count": 16,
   "id": "faa80960-f999-4f19-ac8a-2173219afb20",
   "metadata": {},
   "outputs": [
    {
     "data": {
      "text/plain": [
       "11          ,,\\t,\\t,,,,,\n",
       "15         ,\\t\\t,,,,,,\\t\n",
       "18      \\t,\\t\\t\\t,,\\t\\t,\n",
       "23     \\t\\t\\t\\t,,\\t,\\t\\t\n",
       "34        \\t,,,\\t,,\\t,\\t\n",
       "45         ,,,,\\t\\t,,\\t,\n",
       "57    \\t\\t\\t\\t,\\t,\\t\\t\\t\n",
       "73           ,\\t,,,,,,,,\n",
       "88         \\t,,,,,\\t,\\t,\n",
       "96        \\t,\\t,\\t,\\t,,,\n",
       "Name: Subject, dtype: object"
      ]
     },
     "execution_count": 16,
     "metadata": {},
     "output_type": "execute_result"
    }
   ],
   "source": [
    "train_df['Subject'][subject_lang[subject_lang=='unknown'].index[0:10]]"
   ]
  },
  {
   "cell_type": "markdown",
   "id": "97c991c3-eda6-4e28-9b71-a17135e2b1c1",
   "metadata": {},
   "source": [
    "Let's do the same with the Body"
   ]
  },
  {
   "cell_type": "code",
   "execution_count": 17,
   "id": "09afaaea-3b07-4f86-a161-d95bd937a5c6",
   "metadata": {},
   "outputs": [],
   "source": [
    "body_lang = train_df['Body'].apply(detect_language)"
   ]
  },
  {
   "cell_type": "code",
   "execution_count": 18,
   "id": "bfa78141-2212-48de-abd7-f49d1a6a5849",
   "metadata": {},
   "outputs": [
    {
     "data": {
      "text/plain": [
       "<AxesSubplot: >"
      ]
     },
     "execution_count": 18,
     "metadata": {},
     "output_type": "execute_result"
    },
    {
     "data": {
      "image/png": "[encoded data removed]",
      "text/plain": [
       "<Figure size 640x480 with 1 Axes>"
      ]
     },
     "metadata": {},
     "output_type": "display_data"
    }
   ],
   "source": [
    "body_lang.hist()"
   ]
  },
  {
   "cell_type": "code",
   "execution_count": 19,
   "id": "37cf3888-c5be-454a-8dc4-bf1c2d9d102f",
   "metadata": {},
   "outputs": [
    {
     "data": {
      "text/plain": [
       "471    darn consequences capel randjesfontein willing...\n",
       "Name: Body, dtype: object"
      ]
     },
     "execution_count": 19,
     "metadata": {},
     "output_type": "execute_result"
    }
   ],
   "source": [
    "train_df['Body'][body_lang[body_lang=='ca'].index[0:10]]"
   ]
  },
  {
   "cell_type": "code",
   "execution_count": 20,
   "id": "e7313810-6cc2-43a4-9671-8833aa17f2ba",
   "metadata": {},
   "outputs": [
    {
     "data": {
      "text/plain": [
       "6          \\t,,,,,,,,,\n",
       "12     \\t,,\\t,,,\\t\\t\\t\n",
       "35    ,\\t\\t\\t,,,\\t\\t\\t\n",
       "42        ,,,,,,\\t,,\\t\n",
       "51    \\t,,\\t,\\t,\\t\\t\\t\n",
       "55     \\t,,\\t\\t\\t\\t,,,\n",
       "56       ,,,\\t\\t\\t,,,,\n",
       "81     \\t,\\t,\\t,,\\t\\t,\n",
       "84      \\t\\t,,\\t\\t,,,,\n",
       "98      ,,,\\t\\t,\\t,\\t,\n",
       "Name: Body, dtype: object"
      ]
     },
     "execution_count": 20,
     "metadata": {},
     "output_type": "execute_result"
    }
   ],
   "source": [
    "train_df['Body'][body_lang[body_lang=='unknown'].index[0:10]]"
   ]
  },
  {
   "cell_type": "code",
   "execution_count": 21,
   "id": "f330b28b-8c7e-4121-9da5-6530c4819220",
   "metadata": {},
   "outputs": [],
   "source": [
    "from eda import *"
   ]
  },
  {
   "cell_type": "code",
   "execution_count": 22,
   "id": "be101b36-a81b-482a-947d-50021edb2caf",
   "metadata": {},
   "outputs": [],
   "source": [
    "test_df = pd.DataFrame(test_data)"
   ]
  },
  {
   "cell_type": "markdown",
   "id": "221d9e6e-3d93-4ebc-970b-3627cf6ddb12",
   "metadata": {},
   "source": [
    "The same analysis should be done to the test data, for convenience and cleanliness I refactored the code above in a module `eda.py` so I can call the functions on the test data without repeating the code."
   ]
  },
  {
   "cell_type": "code",
   "execution_count": 24,
   "id": "be5a5129-ef57-40c9-9f11-564bba5e13ef",
   "metadata": {},
   "outputs": [
    {
     "name": "stdout",
     "output_type": "stream",
     "text": [
      "Label: 'business' count: 50\n",
      "Label: 'scitech' count: 50\n",
      "Label: 'sports' count: 50\n",
      "Label: 'world' count: 50\n"
     ]
    },
    {
     "ename": "TypeError",
     "evalue": "language() missing 1 required positional argument: 'col'",
     "output_type": "error",
     "traceback": [
      "\u001b[0;31m---------------------------------------------------------------------------\u001b[0m",
      "\u001b[0;31mTypeError\u001b[0m                                 Traceback (most recent call last)",
      "Cell \u001b[0;32mIn[24], line 1\u001b[0m\n\u001b[0;32m----> 1\u001b[0m \u001b[43mrun_eda\u001b[49m\u001b[43m(\u001b[49m\u001b[43mtest_df\u001b[49m\u001b[43m)\u001b[49m\n",
      "File \u001b[0;32m~/devel/interviews/ms/eda.py:33\u001b[0m, in \u001b[0;36mrun_eda\u001b[0;34m(df)\u001b[0m\n\u001b[1;32m     31\u001b[0m \u001b[38;5;28;01mdef\u001b[39;00m \u001b[38;5;21mrun_eda\u001b[39m(df: pd\u001b[38;5;241m.\u001b[39mDataFrame) \u001b[38;5;241m-\u001b[39m\u001b[38;5;241m>\u001b[39m \u001b[38;5;28;01mNone\u001b[39;00m:\n\u001b[1;32m     32\u001b[0m     class_balance(df)\n\u001b[0;32m---> 33\u001b[0m     \u001b[43mlanguage\u001b[49m\u001b[43m(\u001b[49m\u001b[43mdf\u001b[49m\u001b[43m)\u001b[49m\n",
      "\u001b[0;31mTypeError\u001b[0m: language() missing 1 required positional argument: 'col'"
     ]
    },
    {
     "data": {
      "image/png": "[encoded data removed]",
      "text/plain": [
       "<Figure size 640x480 with 1 Axes>"
      ]
     },
     "metadata": {},
     "output_type": "display_data"
    }
   ],
   "source": [
    "run_eda(test_df)"
   ]
  },
  {
   "cell_type": "code",
   "execution_count": null,
   "id": "09ee01d8-d732-4ae1-bad3-f792578c391b",
   "metadata": {},
   "outputs": [],
   "source": []
  }
 ],
 "metadata": {
  "kernelspec": {
   "display_name": "Python 3 (ipykernel)",
   "language": "python",
   "name": "python3"
  },
  "language_info": {
   "codemirror_mode": {
    "name": "ipython",
    "version": 3
   },
   "file_extension": ".py",
   "mimetype": "text/x-python",
   "name": "python",
   "nbconvert_exporter": "python",
   "pygments_lexer": "ipython3",
   "version": "3.10.6"
  }
 },
 "nbformat": 4,
 "nbformat_minor": 5
}

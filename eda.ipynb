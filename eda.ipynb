{
 "cells": [
  {
   "cell_type": "code",
   "execution_count": 1,
   "id": "3568054d-30f4-447c-b751-33a48bd60370",
   "metadata": {},
   "outputs": [],
   "source": [
    "import seaborn as sns"
   ]
  },
  {
   "cell_type": "code",
   "execution_count": 2,
   "id": "00fda1e1-f54e-46e3-96db-5aa304db0998",
   "metadata": {},
   "outputs": [],
   "source": [
    "import pandas as pd"
   ]
  },
  {
   "cell_type": "code",
   "execution_count": 3,
   "id": "af9407bf-c378-4bf3-b6d5-95bd00146749",
   "metadata": {},
   "outputs": [],
   "source": [
    "import numpy as np"
   ]
  },
  {
   "cell_type": "code",
   "execution_count": 4,
   "id": "0236aa66-a60e-4c74-945e-e4da01d167b1",
   "metadata": {},
   "outputs": [],
   "source": [
    "import logging"
   ]
  },
  {
   "cell_type": "code",
   "execution_count": 5,
   "id": "f1589e4e-2761-411c-9269-c8e2d5db44a6",
   "metadata": {},
   "outputs": [],
   "source": [
    "from classify import load_data"
   ]
  },
  {
   "cell_type": "code",
   "execution_count": 6,
   "id": "8a330cee-9f44-4a5d-a78c-c892849c491c",
   "metadata": {},
   "outputs": [],
   "source": [
    "train_data = load_data(\"./agnews_combined_train.pkl\")\n",
    "test_data = load_data(\"./agnews_combined_test.pkl\")"
   ]
  },
  {
   "cell_type": "code",
   "execution_count": 43,
   "id": "aaad49eb-a56d-40b8-84b5-7d9490971eaf",
   "metadata": {},
   "outputs": [
    {
     "data": {
      "text/plain": [
       "860"
      ]
     },
     "execution_count": 43,
     "metadata": {},
     "output_type": "execute_result"
    }
   ],
   "source": [
    "len(train_data)"
   ]
  },
  {
   "cell_type": "code",
   "execution_count": 44,
   "id": "ef6244ca-f4fc-4d24-9364-9ba8d61c2589",
   "metadata": {},
   "outputs": [
    {
     "data": {
      "text/plain": [
       "200"
      ]
     },
     "execution_count": 44,
     "metadata": {},
     "output_type": "execute_result"
    }
   ],
   "source": [
    "len(test_data)"
   ]
  },
  {
   "cell_type": "code",
   "execution_count": 7,
   "id": "7016ebee-8a91-439e-aceb-dea76db6c9a0",
   "metadata": {},
   "outputs": [
    {
     "data": {
      "text/plain": [
       "{'Subject': 'hair burress unfavorable,molson,barnes heraklio developmental levein alleging boynes wsu mockery ashland levein laxness goleo unfavorable\\tdevelopmental claimed regretfully carpe carpe amaroneck darold,developmental claimed recommend spectrum willingham administrator additions commissioner willingham ashland negatively hardcourt willingham developmental commissioner darold,unwilling deirdre willingham developmental corrado commissioner spectrum darold unwilling deirdre electronics',\n",
       " 'Body': \"earnings esb developmental compiled electronics developmental commissioner dartmouth ashland catapulted charisteas birkle equalised ashland,additions exuberant birkle deadlocked westwood molson nonchalance heraklio ashland knocks ensures unfavorable ashland catapulted purists willingham ashland bjorndalen azzurri ashland negatively hampden,esb uri nomars,ashland levein rejoice redmond unfavorable developmental\\tmorella ashland levein riots jensen esb unwilling papa compiled electronics developmental corrado commissioner spectrum willingham punters willingham ashland additions convey azzurri administrator negatively yanked commissioner azzurri\\tashland additions recommend willingham ashland bjorndalen azzurri administrator ozolinsh unfavorable developmental corrado exuberant dimmer ashland levein laxness lomana esb unwilling deirdre willingham developmental corrado regretfully amaroneck darold developmental claimed commissioner malky hakim\\twillingham ashland bjorndalen recommend esb developmental claimed regretfully growled mockery ashland additions,recommend azzurri administrator negatively bings deirdre willingham winfield additions tails\\tunfavorable clearly sales's esb unwilling compiled willingham developmental commissioner darold ashland sued snubs squeaky,willingham administrator ozolinsh willingham,ashland bjorndalen recommend azzurri administrator negatively hardcourt willingham developmental commissioner dartmouth\\tashland eleventh underscores birkle equalised esb\\tjo administrator negatively rauffer berard's philosophical,esb\\tdevelopmental deirdre willingham ashland bjorndalen recommend azzurri ashland additions recommend esb clemens ashland negatively convey willingham administrator additions hardcourt dartmouth ruud willingham administrator negatively bings commissioner,willingham developmental koubek\\twillingham administrator additions hardcourt philosophical dartmouth ruud electronics ashland kanpur esb ashland\\tadditions recommend willingham ashland bjorndalen\\tazzurri administrator additions hardcourt willingham punters ashland\\tadditions hardcourt willingham developmental commissioner july\\tozolinsh willingham developmental\\tcommissioner july ozolinsh unfavorable ante bloom's vocal esb uri,ashland eleventh underscores,esb developmental deirdre willingham administrator additions,tails azzurri administrator,ozolinsh\\twillingham developmental corrado regretfully carpe growled mockery ashland additions exuberant willingham administrator ozolinsh,esb gymnasts ashland eleventh adoring\",\n",
       " 'Label': 'sports',\n",
       " 'Date': '12/11/2021 05:07 PM'}"
      ]
     },
     "execution_count": 7,
     "metadata": {},
     "output_type": "execute_result"
    }
   ],
   "source": [
    "train_data[0]"
   ]
  },
  {
   "cell_type": "markdown",
   "id": "9c462a98-c8b7-413b-b1ae-34f604c64a03",
   "metadata": {},
   "source": [
    "# Eploratory Data Analysis, sentiment analysis problem"
   ]
  },
  {
   "cell_type": "markdown",
   "id": "dd6a28c5-5a3f-4aac-8796-2bbc0b49ce34",
   "metadata": {},
   "source": [
    "We will perform the following analyses on the provided dataset:\n",
    "* Class balance\n",
    "* Language, vocabulary size and token distribution\n",
    "* Length of documents, which can pose model challenges.\n",
    "* Special characters or numbers\n",
    "* Noise or irrelevant information\n",
    "* Quality of annotations"
   ]
  },
  {
   "cell_type": "markdown",
   "id": "61f8c329-12d8-4f2e-bcd6-34c45b6c85df",
   "metadata": {},
   "source": [
    "Convert the raw data to a dataframe."
   ]
  },
  {
   "cell_type": "code",
   "execution_count": 8,
   "id": "3e9296f0-f838-4cdc-89e5-99c3998ce13a",
   "metadata": {},
   "outputs": [],
   "source": [
    "train_df = pd.DataFrame(train_data)"
   ]
  },
  {
   "cell_type": "markdown",
   "id": "51ace135-fe5b-4fbd-99f7-10bd9245e3c0",
   "metadata": {},
   "source": [
    "## Class balance\n",
    "It is important to check if the dataset is balanced of imbalanced, if the dataset is imbalaced (the number of samples on different classes is not roughly equal) this can affect the model performance."
   ]
  },
  {
   "cell_type": "code",
   "execution_count": 9,
   "id": "abb70169-c6cc-4f63-b4ed-bff184f22720",
   "metadata": {},
   "outputs": [
    {
     "data": {
      "text/plain": [
       "<AxesSubplot: xlabel='Label', ylabel='Count'>"
      ]
     },
     "execution_count": 9,
     "metadata": {},
     "output_type": "execute_result"
    },
    {
     "data": {
      "image/png": "[encoded data removed]",
      "text/plain": [
       "<Figure size 640x480 with 1 Axes>"
      ]
     },
     "metadata": {},
     "output_type": "display_data"
    }
   ],
   "source": [
    "sns.histplot(data=train_df, x=\"Label\")"
   ]
  },
  {
   "cell_type": "markdown",
   "id": "09660769-08f4-4242-b2e5-eb36ee0f3fd5",
   "metadata": {},
   "source": [
    "We can see that the classes are imbalanced, the \"sports\" class has 479 instances in the train dataset vs 20 for the \"world\" class"
   ]
  },
  {
   "cell_type": "code",
   "execution_count": 10,
   "id": "cf5f6570-03ec-44ca-9e54-8eff0b08b969",
   "metadata": {},
   "outputs": [],
   "source": [
    "labels = np.unique(train_df['Label']).tolist()"
   ]
  },
  {
   "cell_type": "code",
   "execution_count": 11,
   "id": "01ba52ba-0572-4de9-aa49-ebff8947c24c",
   "metadata": {},
   "outputs": [
    {
     "name": "stdout",
     "output_type": "stream",
     "text": [
      "Label: 'business' count: 108\n",
      "Label: 'scitech' count: 253\n",
      "Label: 'sports' count: 479\n",
      "Label: 'world' count: 20\n"
     ]
    }
   ],
   "source": [
    "for label in labels:\n",
    "    count = np.count_nonzero(train_df['Label']==label)\n",
    "    print(f\"Label: '{label}' count: {count}\")"
   ]
  },
  {
   "cell_type": "markdown",
   "id": "d0472c0d-d877-4784-af1e-333b3f103e13",
   "metadata": {},
   "source": [
    "## Language, vocabulary size and token distribution"
   ]
  },
  {
   "cell_type": "code",
   "execution_count": 12,
   "id": "39c146b8-734f-4125-9a1d-6671d72fb9c9",
   "metadata": {},
   "outputs": [],
   "source": [
    "from langdetect import detect\n",
    "from langdetect import LangDetectException"
   ]
  },
  {
   "cell_type": "code",
   "execution_count": 13,
   "id": "4c098e4c-7e87-4ac0-9ab6-854861502b18",
   "metadata": {},
   "outputs": [],
   "source": [
    "# Handle errors detecting language\n",
    "def detect_language(x: str):\n",
    "    try:\n",
    "        return detect(x)\n",
    "    except LangDetectException as e:\n",
    "        #logging.exception(\"Error detecting language for text: '%s'\", x)\n",
    "        return 'unknown'"
   ]
  },
  {
   "cell_type": "code",
   "execution_count": 14,
   "id": "9419c585-9acd-4da2-afe0-2e4c29055385",
   "metadata": {},
   "outputs": [],
   "source": [
    "subject_lang = train_df['Subject'].apply(detect_language)"
   ]
  },
  {
   "cell_type": "code",
   "execution_count": 15,
   "id": "f44e70b2-bf53-4c92-af08-32fb5ce99125",
   "metadata": {},
   "outputs": [
    {
     "data": {
      "text/plain": [
       "<AxesSubplot: >"
      ]
     },
     "execution_count": 15,
     "metadata": {},
     "output_type": "execute_result"
    },
    {
     "data": {
      "image/png": "[encoded data removed]",
      "text/plain": [
       "<Figure size 640x480 with 1 Axes>"
      ]
     },
     "metadata": {},
     "output_type": "display_data"
    }
   ],
   "source": [
    "subject_lang.hist()"
   ]
  },
  {
   "cell_type": "markdown",
   "id": "fe31ecd5-dfd3-4ac0-a8ff-d9bc92a778fc",
   "metadata": {},
   "source": [
    "We can check which of the elements have an unknown language, this is due to them being whitespace or punctuation."
   ]
  },
  {
   "cell_type": "code",
   "execution_count": 16,
   "id": "faa80960-f999-4f19-ac8a-2173219afb20",
   "metadata": {},
   "outputs": [
    {
     "data": {
      "text/plain": [
       "11          ,,\\t,\\t,,,,,\n",
       "15         ,\\t\\t,,,,,,\\t\n",
       "18      \\t,\\t\\t\\t,,\\t\\t,\n",
       "23     \\t\\t\\t\\t,,\\t,\\t\\t\n",
       "34        \\t,,,\\t,,\\t,\\t\n",
       "45         ,,,,\\t\\t,,\\t,\n",
       "57    \\t\\t\\t\\t,\\t,\\t\\t\\t\n",
       "73           ,\\t,,,,,,,,\n",
       "88         \\t,,,,,\\t,\\t,\n",
       "96        \\t,\\t,\\t,\\t,,,\n",
       "Name: Subject, dtype: object"
      ]
     },
     "execution_count": 16,
     "metadata": {},
     "output_type": "execute_result"
    }
   ],
   "source": [
    "train_df['Subject'][subject_lang[subject_lang=='unknown'].index[0:10]]"
   ]
  },
  {
   "cell_type": "markdown",
   "id": "97c991c3-eda6-4e28-9b71-a17135e2b1c1",
   "metadata": {},
   "source": [
    "Let's do the same with the Body"
   ]
  },
  {
   "cell_type": "code",
   "execution_count": 17,
   "id": "09afaaea-3b07-4f86-a161-d95bd937a5c6",
   "metadata": {},
   "outputs": [],
   "source": [
    "body_lang = train_df['Body'].apply(detect_language)"
   ]
  },
  {
   "cell_type": "code",
   "execution_count": 18,
   "id": "bfa78141-2212-48de-abd7-f49d1a6a5849",
   "metadata": {},
   "outputs": [
    {
     "data": {
      "text/plain": [
       "<AxesSubplot: >"
      ]
     },
     "execution_count": 18,
     "metadata": {},
     "output_type": "execute_result"
    },
    {
     "data": {
      "image/png": "[encoded data removed]",
      "text/plain": [
       "<Figure size 640x480 with 1 Axes>"
      ]
     },
     "metadata": {},
     "output_type": "display_data"
    }
   ],
   "source": [
    "body_lang.hist()"
   ]
  },
  {
   "cell_type": "code",
   "execution_count": 19,
   "id": "37cf3888-c5be-454a-8dc4-bf1c2d9d102f",
   "metadata": {},
   "outputs": [
    {
     "data": {
      "text/plain": [
       "471    darn consequences capel randjesfontein willing...\n",
       "Name: Body, dtype: object"
      ]
     },
     "execution_count": 19,
     "metadata": {},
     "output_type": "execute_result"
    }
   ],
   "source": [
    "train_df['Body'][body_lang[body_lang=='ca'].index[0:10]]"
   ]
  },
  {
   "cell_type": "code",
   "execution_count": 20,
   "id": "e7313810-6cc2-43a4-9671-8833aa17f2ba",
   "metadata": {},
   "outputs": [
    {
     "data": {
      "text/plain": [
       "6          \\t,,,,,,,,,\n",
       "12     \\t,,\\t,,,\\t\\t\\t\n",
       "35    ,\\t\\t\\t,,,\\t\\t\\t\n",
       "42        ,,,,,,\\t,,\\t\n",
       "51    \\t,,\\t,\\t,\\t\\t\\t\n",
       "55     \\t,,\\t\\t\\t\\t,,,\n",
       "56       ,,,\\t\\t\\t,,,,\n",
       "81     \\t,\\t,\\t,,\\t\\t,\n",
       "84      \\t\\t,,\\t\\t,,,,\n",
       "98      ,,,\\t\\t,\\t,\\t,\n",
       "Name: Body, dtype: object"
      ]
     },
     "execution_count": 20,
     "metadata": {},
     "output_type": "execute_result"
    }
   ],
   "source": [
    "train_df['Body'][body_lang[body_lang=='unknown'].index[0:10]]"
   ]
  },
  {
   "cell_type": "code",
   "execution_count": 21,
   "id": "f330b28b-8c7e-4121-9da5-6530c4819220",
   "metadata": {},
   "outputs": [],
   "source": [
    "from eda import *"
   ]
  },
  {
   "cell_type": "code",
   "execution_count": 22,
   "id": "be101b36-a81b-482a-947d-50021edb2caf",
   "metadata": {},
   "outputs": [],
   "source": [
    "test_df = pd.DataFrame(test_data)"
   ]
  },
  {
   "cell_type": "markdown",
   "id": "221d9e6e-3d93-4ebc-970b-3627cf6ddb12",
   "metadata": {},
   "source": [
    "The same analysis should be done to the test data, for convenience and cleanliness I refactored the code above in a module `eda.py` so I can call the functions on the test data without repeating the code.\n",
    "\n",
    "## Test dataset, EDA"
   ]
  },
  {
   "cell_type": "code",
   "execution_count": 23,
   "id": "be5a5129-ef57-40c9-9f11-564bba5e13ef",
   "metadata": {},
   "outputs": [
    {
     "name": "stdout",
     "output_type": "stream",
     "text": [
      "Class balance:\n",
      "Label: 'business' count: 50\n",
      "Label: 'scitech' count: 50\n",
      "Label: 'sports' count: 50\n",
      "Label: 'world' count: 50\n",
      "Langage for column: 'Subject' \n"
     ]
    },
    {
     "data": {
      "image/png": "[encoded data removed]",
      "text/plain": [
       "<Figure size 640x480 with 1 Axes>"
      ]
     },
     "metadata": {},
     "output_type": "display_data"
    },
    {
     "data": {
      "image/png": "[encoded data removed]",
      "text/plain": [
       "<Figure size 640x480 with 1 Axes>"
      ]
     },
     "metadata": {},
     "output_type": "display_data"
    },
    {
     "name": "stdout",
     "output_type": "stream",
     "text": [
      "Langage for column: 'Body' \n"
     ]
    },
    {
     "data": {
      "image/png": "[encoded data removed]",
      "text/plain": [
       "<Figure size 640x480 with 1 Axes>"
      ]
     },
     "metadata": {},
     "output_type": "display_data"
    }
   ],
   "source": [
    "run_eda(test_df)"
   ]
  },
  {
   "cell_type": "markdown",
   "id": "dee95f05-706f-4041-93e3-c3f6010ea52d",
   "metadata": {},
   "source": [
    "From this we see that the text is in english, take some noisy instances where the language detection failed or was not correct. Also the distribution of labels in the test dataset is balanced, unlike the train dataset."
   ]
  },
  {
   "cell_type": "markdown",
   "id": "d0fe714f-2e98-43e6-b1bf-627e7779d7fb",
   "metadata": {},
   "source": [
    "## Data quality\n",
    "Let's look at some of the documents for different labels to check the quality of the annotations."
   ]
  },
  {
   "cell_type": "code",
   "execution_count": 35,
   "id": "dfed0207-e598-46ab-8b43-fb68be3809fe",
   "metadata": {},
   "outputs": [
    {
     "data": {
      "text/plain": [
       "4      uva bridgestones peabody's buenos skirmish kor...\n",
       "88     rider padraig\\tsammy fireronzook broncos accli...\n",
       "130    disco dudley,nuwan antwaan bourne's\\tmoneyball...\n",
       "156    investigator diminished\\tovertimes approves ma...\n",
       "168    hargreaves crackdown friedgen,interview,shelf ...\n",
       "                             ...                        \n",
       "757    q hb determine spina newsgator critter gentile...\n",
       "758    blushing softphone sentimental the company sai...\n",
       "759    sewing bricks sia generation's lifesaving conv...\n",
       "793    poverty to buy\\tthe heart of the united airlin...\n",
       "814    broadband busch\\toracle mine bumbler cliches c...\n",
       "Name: Body, Length: 253, dtype: object"
      ]
     },
     "execution_count": 35,
     "metadata": {},
     "output_type": "execute_result"
    }
   ],
   "source": [
    "train_df['Body'][train_df['Label']=='scitech']"
   ]
  },
  {
   "cell_type": "markdown",
   "id": "44866af4-48c6-429a-a71d-c9fb7b13a00f",
   "metadata": {},
   "source": [
    "The documents seem to have been preprocessed and contain lowercase words with some whitespace tokens such as tabs commas, spaces, and apostrophes. Stop words haven't been removed and the words seem to be shuffled from natural order in the sentence."
   ]
  },
  {
   "cell_type": "code",
   "execution_count": 36,
   "id": "3f545253-4654-46bc-8c1a-4ed09eba2e25",
   "metadata": {},
   "outputs": [
    {
     "data": {
      "text/plain": [
       "\"uva bridgestones peabody's buenos skirmish korey poked access cliche racked seeding afternooon kahne beatles beneficiary aitken ashland negatively hardcourt dartmouth watered birkle ashland congressional shave barnes developmental claimed recommend spectrum dartmouth nomars electronics developmental\\tcommissioner dartmouth ashland failed exuberant beachball willingham ashland,bjorndalen recommend willingham administrator additions yanked azzurri,ashland alameda unfavorable tremor rear birkle ashland congressional willingham ashland bjorndalen azzurri administrator ozolinsh\\tesb gymnasts clearly,sales's esb ashland levein riots punchlines,esb developmental corrado commissioner,congressional compiled dartmouth developmental levein alleging boynes snakes birkle developmental corrado commissioner\\tcongressional compiled 'flat' ashland levein riots jensen birkle,deadlocked shave models melo cruz\\tdevelopmental confinement amaroneck\\tesb ashland additions hardcourt electronics ashland ment mockery ashland alameda darold ashland negatively hardcourt dartmouth,nomars birkle\\tenhancing westwood molson nonchalance esb gymnasts developmental\\tlevein\\tashore azzurri developmental levein laxness lomana unfavorable ashland catapulted davis' esb unwilling papa deirdre 'flat' catapulted birkle deadlocked ashland\\tadditions hardcourt willingham punters willingham ashland negatively,hardcourt electronics punters ashland,additions yanked electronics accuses,esb levein marginalized punchlines willingham ashland negatively hardcourt dartmouth watered birkle deadlocked ludovic esb ashland levein rejoice gnat esb\\tclemens willingham developmental commissioner july azzurri administrator negatively bings deirdre,'flat' ashland failed exuberant beachball esb ashland levein marginalized jensen willingham developmental corrado clough sprague ashland negatively recommend esb gymnasts developmental claimed recommend spectrum dartmouth ruud birkle enhancing esb developmental\\tdeirdre willingham developmental\\tcommissioner july azzurri developmental levein alleging ashore azzurri developmental levein laxness cascaded esb unwilling deirdre 'flat' catapulted willingham ashland bjorndalen,yanked,esb compiled,'flat' developmental bloom's gospel thoroughbred unfavorable developmental claimed recommend malky ozolinsh unfavorable kameli esb gymnasts,ashland levein laxness cascaded unfavorable ashland levein riots\""
      ]
     },
     "execution_count": 36,
     "metadata": {},
     "output_type": "execute_result"
    }
   ],
   "source": [
    "train_df['Body'][train_df['Label']=='scitech'][4]"
   ]
  },
  {
   "cell_type": "code",
   "execution_count": 37,
   "id": "a9836049-5c20-48f3-88e7-a8819bbda47f",
   "metadata": {},
   "outputs": [
    {
     "data": {
      "text/plain": [
       "4      surrending redneck enable serving taxied\\tunfa...\n",
       "88                                         \\t,,,,,\\t,\\t,\n",
       "130    chis hurts whom jpm\\tesb developmental judicio...\n",
       "156                                    \\t,,\\t\\t\\t\\t\\t,\\t\n",
       "168    souper samuel cheese darold unwilling compiled...\n",
       "                             ...                        \n",
       "757    hibiscus prank video,game,console and the,inte...\n",
       "758    patricia zips the new search engines that can ...\n",
       "759                                     ,\\t\\t,\\t,\\t,\\t\\t\n",
       "793    april,promising,the us government reported a n...\n",
       "814    title totaling foothills freestar in its popul...\n",
       "Name: Subject, Length: 253, dtype: object"
      ]
     },
     "execution_count": 37,
     "metadata": {},
     "output_type": "execute_result"
    }
   ],
   "source": [
    "train_df['Subject'][train_df['Label']=='scitech']"
   ]
  },
  {
   "cell_type": "code",
   "execution_count": 33,
   "id": "09ee01d8-d732-4ae1-bad3-f792578c391b",
   "metadata": {},
   "outputs": [
    {
     "data": {
      "text/plain": [
       "100    makings periodicals ponds pointed crunch postf...\n",
       "101    gigabit jays' broadcasters invigorate courthou...\n",
       "102    titling apprentice appearance painstakingly in...\n",
       "103    fluctuates komando richardson burgers bros qt ...\n",
       "104    gamespy's reformer appalachian analyst swaps n...\n",
       "105    dense benzene flatow unexplained web' louisian...\n",
       "106    schmidt flatly album's devour uncomfortably ju...\n",
       "107    alerts ancel rankings browsed readings instant...\n",
       "108    jcl 'by hogan plaintiffs bud suppression press...\n",
       "109    trillian sociologist digitized invigorates dor...\n",
       "110    underlining lcc convera character intact farme...\n",
       "111    lufthansa shows rebel cabinet's roared spouses...\n",
       "112    disappearances amounts snack local wheel whip ...\n",
       "113    caesium punctuate ubiquity curate's the world ...\n",
       "114    baig compartments wears lifeforms plethora tri...\n",
       "115                             scrolls nand a new study\n",
       "116    compilation ethical small and the new internet...\n",
       "117    interferences qtype inherently empt oraclethe ...\n",
       "118    ceatec salesforce lethargic towers sitting dre...\n",
       "119    bandage tivocasting marvelous slay policymakin...\n",
       "120    cobra's futurists wwise depository arithmetic ...\n",
       "121    insanity mike limited monthly bounded leesburg...\n",
       "122    taiji fortheir hacked puffins edgars slab brus...\n",
       "123    flowed aquatic toyota comic nato presage sotto...\n",
       "124    blasts motorbike sex nam tilly siding discrete...\n",
       "125    situ tandong quot the new species of monkey an...\n",
       "126    violator hatchlings warranty severance success...\n",
       "127    intensification of the new desktop search appl...\n",
       "128    clout brave laila kingdom's elimination gecko ...\n",
       "129    lasting albums economics garching the new sear...\n",
       "130    capsule's airways and a year after the company...\n",
       "131    outrages addictions justifies monroe anacubis ...\n",
       "132    drying 'hardworking wanted painting verify red...\n",
       "133    laughing salinas twentieth indonesians gold da...\n",
       "134    topology provides majoras symmetrix summers st...\n",
       "135    underworld smoothing provoke beachings sony ut...\n",
       "136    narrower pneumonia outspoken reasserting lanka...\n",
       "137    lessened shorted qualifying manufactured 'gbro...\n",
       "138    ideals foundation's whom masterful albeit arti...\n",
       "139    reggie incident forefather steinberg xpoperati...\n",
       "140    birthday largest 'offshore' ati's sq genome di...\n",
       "141    mother's primates darts responsibly pot ceres ...\n",
       "142    radically plummeted tortilla asp blacklists te...\n",
       "143    powerbooks showcasing hunkered indigoskies sed...\n",
       "144    discredited broken and other security experts ...\n",
       "145    'work tumors the world wide internet security ...\n",
       "146    fundamentalist mission reexamination eyepods j...\n",
       "147    drowned yellow ohioedge mailbag correctly dece...\n",
       "148    solved muslims the new york reuters a new spec...\n",
       "149    otherwise vijayan articulating coca portuguese...\n",
       "Name: Body, dtype: object"
      ]
     },
     "execution_count": 33,
     "metadata": {},
     "output_type": "execute_result"
    }
   ],
   "source": [
    "test_df['Body'][test_df['Label']=='scitech']"
   ]
  },
  {
   "cell_type": "markdown",
   "id": "db781a16-f486-46ac-a9db-24480d70c172",
   "metadata": {},
   "source": [
    "The contect of the emails seems to have been preprocessed, and the word order doesn't seem to have any meaning. I suspect the words might have been shuffled and they don't follow the natural order in a sentence. This makes it also hard to asses the quality of the annotations."
   ]
  },
  {
   "cell_type": "code",
   "execution_count": 39,
   "id": "e70cae5a-a3ca-4b6f-a796-9744878c602e",
   "metadata": {},
   "outputs": [
    {
     "data": {
      "text/plain": [
       "\"birdiepalooza united manipulation fated scrambler furore intensity esb ashland additions recommend willingham ashland negatively hampden unfavorable kameli esb overcame clearly initially azzurri administrator ozolinsh willingham ashland bjorndalen yanked esb ashland negatively hardcourt willingham punters ashland sued snubs squeaky willingham administrator negatively bings deirdre electronics accuses unfavorable ashland catapulted charisteas unfavorable bloom's bmw esb gymnasts clearly bonita electronics developmental nfl esb rear developmental confinement amaroneck willingham developmental commissioner dartmouth watered birkle ashland negatively convey unfavorable ashland\""
      ]
     },
     "execution_count": 39,
     "metadata": {},
     "output_type": "execute_result"
    }
   ],
   "source": [
    "test_df['Body'][test_df['Label']=='sports'][4]"
   ]
  },
  {
   "cell_type": "markdown",
   "id": "3ef509dd-3706-425b-8c84-7bd853eff87e",
   "metadata": {},
   "source": [
    "It's hard to judge if this is related to 'sports' but seems that there's a lot of noise in the data."
   ]
  },
  {
   "cell_type": "code",
   "execution_count": 42,
   "id": "f17705f3-f6f7-4789-a84c-bf0c8f92fd12",
   "metadata": {},
   "outputs": [
    {
     "data": {
      "text/plain": [
       "'calling iban lawful cautious latroy despondent bury welke sort ashland sued premierleague squeaky unfavorable ashland levein rejoice redmond esb developmental corrado commissioner malky ozolinsh willingham ashland additions convey azzurri ashland alameda willingham administrator additions tails willingham developmental corrado commissioner congressional compiled dartmouth ashland eleventh bulldozer birkle enhancing ludovic willingham administrator negatively bings commissioner azzurri developmental commissioner darold unwilling compiled willingham ashland bjorndalen yanked willingham developmental commissioner july ozolinsh willingham ashland negatively hampden unfavorable developmental claimed recommend malky ozolinsh esb gymnasts ashland eleventh underscores willingham developmental koubek unfavorable tremor south esb clemens ashland negatively convey unfavorable ashland catapulted purists esb ashland negatively convey willingham ashland bjorndalen recommend esb clemens ashland negatively recommend azzurri administrator ozolinsh esb ashland levein rejoice redmond esb unwilling deirdre willingham ashland negatively hampden azzurri ashland additions hardcourt willingham ashland'"
      ]
     },
     "execution_count": 42,
     "metadata": {},
     "output_type": "execute_result"
    }
   ],
   "source": [
    "test_df['Body'][test_df['Label']=='sports'][6]"
   ]
  },
  {
   "cell_type": "markdown",
   "id": "51b4637c-cd0a-4698-b109-4767ee18c7b5",
   "metadata": {},
   "source": [
    "Ozolinsh seems to be a hockey player for example, it's hard to judge manually but from now on we can assume there's some signal in the data and proceed to train the model. We see that stop words are also present in the dataset."
   ]
  },
  {
   "cell_type": "code",
   "execution_count": null,
   "id": "de57aa55-8490-4ddb-9cbe-0a1fe4eb4baf",
   "metadata": {},
   "outputs": [],
   "source": []
  }
 ],
 "metadata": {
  "kernelspec": {
   "display_name": "Python 3 (ipykernel)",
   "language": "python",
   "name": "python3"
  },
  "language_info": {
   "codemirror_mode": {
    "name": "ipython",
    "version": 3
   },
   "file_extension": ".py",
   "mimetype": "text/x-python",
   "name": "python",
   "nbconvert_exporter": "python",
   "pygments_lexer": "ipython3",
   "version": "3.10.6"
  }
 },
 "nbformat": 4,
 "nbformat_minor": 5
}
